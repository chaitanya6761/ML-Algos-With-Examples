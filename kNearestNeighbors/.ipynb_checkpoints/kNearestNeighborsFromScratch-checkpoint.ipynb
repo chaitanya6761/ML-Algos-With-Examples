{
 "cells": [
  {
   "cell_type": "markdown",
   "metadata": {},
   "source": [
    "### Classifying Iris Data With KNN"
   ]
  },
  {
   "cell_type": "code",
   "execution_count": 1,
   "metadata": {
    "collapsed": true
   },
   "outputs": [],
   "source": [
    "#Required Datasets\n",
    "import csv\n",
    "import math\n",
    "import random\n",
    "import operator"
   ]
  },
  {
   "cell_type": "code",
   "execution_count": 2,
   "metadata": {
    "collapsed": true
   },
   "outputs": [],
   "source": [
    "#Loading the dataset \n",
    "def loadDataset(filename, split, trainingSet=[], testSet=[]):\n",
    "    '''\n",
    "     Function to load the dataset and split it into training and testing sets     \n",
    "    '''\n",
    "    with open(filename,'r') as csvfile:\n",
    "        lines = csv.reader(csvfile)\n",
    "        dataset = list(lines)\n",
    "        for i in range(1,len(dataset)):\n",
    "            for j in range(4): \n",
    "                dataset[i][j] = float(dataset[i][j])\n",
    "            if random.random() < split:\n",
    "                trainingSet.append(dataset[i])\n",
    "            else:\n",
    "                testSet.append(dataset[i])"
   ]
  },
  {
   "cell_type": "code",
   "execution_count": 3,
   "metadata": {
    "collapsed": true
   },
   "outputs": [],
   "source": [
    "#Distance Calculation\n",
    "def euclideanDistance(point1, point2, length):\n",
    "    '''\n",
    "        This Fn Calculates The Distance B/W The Given Two Points\n",
    "    '''\n",
    "    distance = 0\n",
    "    for i in range(length):\n",
    "        distance += pow((point1[i]-point2[i]),2)\n",
    "    return math.sqrt(distance)"
   ]
  },
  {
   "cell_type": "code",
   "execution_count": 4,
   "metadata": {
    "collapsed": true
   },
   "outputs": [],
   "source": [
    "def getNeighbors(trainingSet, testInstance, k):\n",
    "    '''\n",
    "        This Fn Returns The K Nearest Points For A Given Test Instance\n",
    "    '''\n",
    "    distances = []\n",
    "    neighbors = []\n",
    "    length = len(testInstance) - 1\n",
    "    for i in range(len(trainingSet)):\n",
    "        dis= euclideanDistance(testInstance, trainingSet[i], length)\n",
    "        distances.append((trainingSet[i],dis))\n",
    "    distances.sort(key=operator.itemgetter(1))\n",
    "    \n",
    "    for j in range(k):\n",
    "        neighbors.append(distances[j][0])\n",
    "        \n",
    "    return neighbors "
   ]
  },
  {
   "cell_type": "code",
   "execution_count": 5,
   "metadata": {
    "collapsed": true
   },
   "outputs": [],
   "source": [
    "def getResponse(neighbors):\n",
    "    '''\n",
    "        This Functions Returns Predicted Class Based On Input Neighbors \n",
    "    '''\n",
    "    votes = {}\n",
    "    for neighbor in neighbors:\n",
    "        vote = neighbor[-1]\n",
    "        if vote in votes:\n",
    "            votes[vote] += 1\n",
    "        else:\n",
    "            votes[vote] = 1\n",
    "    sortedVotes = sorted(votes.items(), key=operator.itemgetter(1), reverse=True)    \n",
    "    return sortedVotes[0][0] "
   ]
  },
  {
   "cell_type": "code",
   "execution_count": 6,
   "metadata": {
    "collapsed": true
   },
   "outputs": [],
   "source": [
    "def getAccuracy(testSet, predictions):\n",
    "    '''\n",
    "        This Fn Returns The Accuracy \n",
    "    '''\n",
    "    correct = 0\n",
    "    for i in range(len(testSet)):\n",
    "        if testSet[i][-1] == predictions[i]:\n",
    "            correct += 1\n",
    "            \n",
    "    return (correct/float(len(testSet)))*100.0        "
   ]
  },
  {
   "cell_type": "code",
   "execution_count": 7,
   "metadata": {},
   "outputs": [
    {
     "name": "stdout",
     "output_type": "stream",
     "text": [
      "Length of training set:  117\n",
      "Length of testing set:  33\n",
      "Accuracy:  96.96969696969697\n"
     ]
    }
   ],
   "source": [
    "def main():\n",
    "    trainingSet = []\n",
    "    testSet = []\n",
    "\n",
    "    loadDataset('iris.csv', 0.80, trainingSet, testSet)\n",
    "    print('Length of training set: ',len(trainingSet))\n",
    "    print('Length of testing set: ',len(testSet))\n",
    "    \n",
    "    predictions = []\n",
    "    k = 3\n",
    "    \n",
    "    for i in range(len(testSet)):\n",
    "        neighbors = getNeighbors(trainingSet, testSet[i], k)\n",
    "        result = getResponse(neighbors)\n",
    "        predictions.append(result)\n",
    "        \n",
    "    accuracy = getAccuracy(testSet, predictions)\n",
    "    \n",
    "    print('Accuracy: ', accuracy)\n",
    "    \n",
    "    \n",
    "main()    "
   ]
  }
 ],
 "metadata": {
  "kernelspec": {
   "display_name": "Python 3",
   "language": "python",
   "name": "python3"
  },
  "language_info": {
   "codemirror_mode": {
    "name": "ipython",
    "version": 3
   },
   "file_extension": ".py",
   "mimetype": "text/x-python",
   "name": "python",
   "nbconvert_exporter": "python",
   "pygments_lexer": "ipython3",
   "version": "3.6.0"
  }
 },
 "nbformat": 4,
 "nbformat_minor": 2
}
