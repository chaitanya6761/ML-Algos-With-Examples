{
 "cells": [
  {
   "cell_type": "code",
   "execution_count": 8,
   "metadata": {},
   "outputs": [],
   "source": [
    "#Loading the dataset \n",
    "import csv\n",
    "import random\n",
    "\n",
    "def loadDataset(filename, split, trainingSet=[], testset=[]):\n",
    "    '''\n",
    "     Function to load the dataset and split it into training and testing sets     \n",
    "    '''\n",
    "    with open(filename,'r') as csvfile:\n",
    "        lines = csv.reader(csvfile)\n",
    "        dataset = list(lines)\n",
    "        for i in range(1,len(dataset)):\n",
    "            for j in range(4): \n",
    "                dataset[i][j] = float(dataset[i][j])\n",
    "            if random.random() < split:\n",
    "                trainingSet.append(dataset[i])\n",
    "            else:\n",
    "                testSet.append(dataset[i])"
   ]
  },
  {
   "cell_type": "code",
   "execution_count": 9,
   "metadata": {},
   "outputs": [
    {
     "name": "stdout",
     "output_type": "stream",
     "text": [
      "Length of training set:  100\n",
      "Length of testing set:  50\n"
     ]
    }
   ],
   "source": [
    "traingSet = []\n",
    "testSet = []\n",
    "\n",
    "loadDataset('iris.csv', 0.66, traingSet, testSet)\n",
    "print('Length of training set: ',len(traingSet))\n",
    "print('Length of testing set: ',len(testSet))"
   ]
  },
  {
   "cell_type": "code",
   "execution_count": null,
   "metadata": {
    "collapsed": true
   },
   "outputs": [],
   "source": []
  }
 ],
 "metadata": {
  "kernelspec": {
   "display_name": "Python 3",
   "language": "python",
   "name": "python3"
  },
  "language_info": {
   "codemirror_mode": {
    "name": "ipython",
    "version": 3
   },
   "file_extension": ".py",
   "mimetype": "text/x-python",
   "name": "python",
   "nbconvert_exporter": "python",
   "pygments_lexer": "ipython3",
   "version": "3.6.0"
  }
 },
 "nbformat": 4,
 "nbformat_minor": 2
}
