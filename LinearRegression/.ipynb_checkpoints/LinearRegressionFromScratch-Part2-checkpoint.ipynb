{
 "cells": [
  {
   "cell_type": "markdown",
   "metadata": {},
   "source": [
    "### LinearRegression - Predicting Output Of Insurance Company"
   ]
  },
  {
   "cell_type": "code",
   "execution_count": 2,
   "metadata": {
    "collapsed": true
   },
   "outputs": [],
   "source": [
    "#Required Imports\n",
    "import pandas as pd"
   ]
  },
  {
   "cell_type": "code",
   "execution_count": 3,
   "metadata": {},
   "outputs": [
    {
     "data": {
      "text/html": [
       "<div>\n",
       "<table border=\"1\" class=\"dataframe\">\n",
       "  <thead>\n",
       "    <tr style=\"text-align: right;\">\n",
       "      <th></th>\n",
       "      <th>X</th>\n",
       "      <th>Y</th>\n",
       "    </tr>\n",
       "  </thead>\n",
       "  <tbody>\n",
       "    <tr>\n",
       "      <th>0</th>\n",
       "      <td>108</td>\n",
       "      <td>392.5</td>\n",
       "    </tr>\n",
       "    <tr>\n",
       "      <th>1</th>\n",
       "      <td>19</td>\n",
       "      <td>46.2</td>\n",
       "    </tr>\n",
       "    <tr>\n",
       "      <th>2</th>\n",
       "      <td>13</td>\n",
       "      <td>15.7</td>\n",
       "    </tr>\n",
       "    <tr>\n",
       "      <th>3</th>\n",
       "      <td>124</td>\n",
       "      <td>422.2</td>\n",
       "    </tr>\n",
       "    <tr>\n",
       "      <th>4</th>\n",
       "      <td>40</td>\n",
       "      <td>119.4</td>\n",
       "    </tr>\n",
       "  </tbody>\n",
       "</table>\n",
       "</div>"
      ],
      "text/plain": [
       "     X      Y\n",
       "0  108  392.5\n",
       "1   19   46.2\n",
       "2   13   15.7\n",
       "3  124  422.2\n",
       "4   40  119.4"
      ]
     },
     "execution_count": 3,
     "metadata": {},
     "output_type": "execute_result"
    }
   ],
   "source": [
    "data = pd.read_csv('Insurance.csv')\n",
    "data.head()"
   ]
  },
  {
   "cell_type": "code",
   "execution_count": 4,
   "metadata": {},
   "outputs": [
    {
     "name": "stdout",
     "output_type": "stream",
     "text": [
      "x stats: mean=3.000 variance=10.000\n",
      "y stats: mean=2.800 variance=8.800\n"
     ]
    }
   ],
   "source": [
    "#Lets Implement Few Function That Will Be Handy For Calculatios\n",
    "#y = b0 + b1 * x\n",
    "\n",
    "def mean(values):\n",
    "    return sum(values)/float(len(values))\n",
    "\n",
    "#The Variance Is The Sum Of Squared For Each value From The Mean Value.\n",
    "def variance(values, mean):\n",
    "    return sum([(val-mean)**2 for val in values])\n",
    "\n",
    "dataset = [[1, 1], [2, 3], [4, 3], [3, 2], [5, 5]]\n",
    "x = [row[0] for row in dataset]\n",
    "y = [row[1] for row in dataset]\n",
    "mean_x, mean_y = mean(x), mean(y)\n",
    "var_x, var_y = variance(x, mean_x), variance(y, mean_y)\n",
    "print('x stats: mean=%.3f variance=%.3f' % (mean_x, var_x))\n",
    "print('y stats: mean=%.3f variance=%.3f' % (mean_y, var_y))"
   ]
  },
  {
   "cell_type": "code",
   "execution_count": 6,
   "metadata": {},
   "outputs": [
    {
     "name": "stdout",
     "output_type": "stream",
     "text": [
      "Covariance: 8.000\n"
     ]
    }
   ],
   "source": [
    "# The covariance of two groups of numbers describes how those numbers change together. \n",
    "#Covariance is a generalization of correlation. \n",
    "#Correlation describes the relationship between two groups of numbers, \n",
    "#whereas covariance can describe the relationship between two or more groups of numbers.\n",
    "\n",
    "def covariance(X, Y, mean_x, mean_y):\n",
    "    covar = 0.0\n",
    "    for i in range(len(X)):\n",
    "        covar += (X[i] - mean_x)*(Y[i] - mean_y)\n",
    "    return covar\n",
    "\n",
    "\n",
    "dataset = [[1, 1], [2, 3], [4, 3], [3, 2], [5, 5]]\n",
    "X = [row[0] for row in dataset]\n",
    "Y = [row[1] for row in dataset]\n",
    "mean_x, mean_y = mean(x), mean(y)\n",
    "covar = covariance(X, Y, mean_x, mean_y)\n",
    "print('Covariance: %.3f' % (covar))"
   ]
  },
  {
   "cell_type": "code",
   "execution_count": 8,
   "metadata": {},
   "outputs": [
    {
     "name": "stdout",
     "output_type": "stream",
     "text": [
      "Coefficients: B0=0.400, B1=0.800\n"
     ]
    }
   ],
   "source": [
    "#B1 = sum((x(i) - mean(x)) * (y(i) - mean(y))) / sum( (x(i) - mean(x))^2 )\n",
    "#B1 = Covariance(x, y) / variance(x)\n",
    "\n",
    "def coefficients(dataset):\n",
    "    X = [row[0] for row in dataset]\n",
    "    Y = [row[1] for row in dataset]\n",
    "    \n",
    "    mean_x, mean_y = mean(x), mean(y)\n",
    "    b1 = covariance(X, Y, mean_x, mean_y)/variance(X, mean_x)\n",
    "    b0 = mean_y - b1*mean_x\n",
    "    return [b0, b1]\n",
    "\n",
    "dataset = [[1, 1], [2, 3], [4, 3], [3, 2], [5, 5]]\n",
    "b0, b1 = coefficients(dataset)\n",
    "print('Coefficients: B0=%.3f, B1=%.3f' % (b0, b1))"
   ]
  },
  {
   "cell_type": "code",
   "execution_count": 18,
   "metadata": {
    "collapsed": true
   },
   "outputs": [],
   "source": [
    "#Below is a function named simple_linear_regression() \n",
    "#that implements the prediction equation to make predictions on a test dataset. \n",
    "#It also ties together the estimation of the coefficients on training data from the steps above.\n",
    "\n",
    "def simple_linear_regression(train, test):\n",
    "    predictions = list()\n",
    "    b0, b1 = coefficients(train)\n",
    "    for row in test:\n",
    "        yhat = b0 + b1 * row[0]\n",
    "        predictions.append(yhat)\n",
    "    return predictions"
   ]
  },
  {
   "cell_type": "code",
   "execution_count": 29,
   "metadata": {
    "collapsed": true
   },
   "outputs": [],
   "source": [
    "#As part of this example, we will also add in a function to manage the evaluation of the predictions \n",
    "#called evaluate_algorithm() and another function to estimate the \n",
    "#Root Mean Squared Error of the predictions called rmse_metric().\n",
    "from math import sqrt\n",
    "\n",
    "def rmse_metric(actual, predicted):\n",
    "    sum_error = 0.0\n",
    "    for i in range(len(actual)):\n",
    "        prediction_error = predicted[i] - actual[i]\n",
    "        sum_error += (prediction_error ** 2)\n",
    "    mean_error = sum_error / float(len(actual))\n",
    "    return sqrt(mean_error)\n",
    " \n",
    "# Evaluate regression algorithm on training dataset\n",
    "def evaluate_algorithm(dataset, algorithm):\n",
    "    test_set = list()\n",
    "    for row in dataset:\n",
    "        row_copy = list(row)\n",
    "        row_copy[-1] = None\n",
    "        test_set.append(row_copy)\n",
    "    predicted = algorithm(dataset, test_set)\n",
    "    print(predicted)\n",
    "    actual = [row[-1] for row in dataset]\n",
    "    rmse = rmse_metric(actual, predicted)\n",
    "    return rmse"
   ]
  },
  {
   "cell_type": "code",
   "execution_count": 30,
   "metadata": {},
   "outputs": [
    {
     "name": "stdout",
     "output_type": "stream",
     "text": [
      "[1.1999999999999995, 1.9999999999999996, 3.5999999999999996, 2.8, 4.3999999999999995]\n",
      "RMSE: 0.693\n"
     ]
    }
   ],
   "source": [
    "dataset = [[1, 1], [2, 3], [4, 3], [3, 2], [5, 5]]\n",
    "rmse = evaluate_algorithm(dataset, simple_linear_regression)\n",
    "print('RMSE: %.3f' % (rmse))"
   ]
  },
  {
   "cell_type": "code",
   "execution_count": 34,
   "metadata": {},
   "outputs": [
    {
     "name": "stdout",
     "output_type": "stream",
     "text": [
      "[['108', '392.5'], ['19', '46.2'], ['13', '15.7'], ['124', '422.2'], ['40', '119.4'], ['57', '170.9'], ['23', '56.9'], ['14', '77.5'], ['45', '214'], ['10', '65.3'], ['5', '20.9'], ['48', '248.1'], ['11', '23.5'], ['23', '39.6'], ['7', '48.8'], ['2', '6.6'], ['24', '134.9'], ['6', '50.9'], ['3', '4.4'], ['23', '113'], ['6', '14.8'], ['9', '48.7'], ['9', '52.1'], ['3', '13.2'], ['29', '103.9'], ['7', '77.5'], ['4', '11.8'], ['20', '98.1'], ['7', '27.9'], ['4', '38.1'], ['0', '0'], ['25', '69.2'], ['6', '14.6'], ['5', '40.3'], ['22', '161.5'], ['11', '57.2'], ['61', '217.6'], ['12', '58.1'], ['4', '12.6'], ['16', '59.6'], ['13', '89.9'], ['60', '202.4'], ['41', '181.3'], ['37', '152.8'], ['55', '162.8'], ['41', '73.4'], ['11', '21.3'], ['27', '92.6'], ['8', '76.1'], ['3', '39.9'], ['17', '142.1'], ['13', '93'], ['13', '31.9'], ['15', '32.1'], ['8', '55.6'], ['29', '133.3'], ['30', '194.5'], ['24', '137.9'], ['9', '87.4'], ['31', '209.8'], ['14', '95.5'], ['53', '244.6'], ['26', '187.5']]\n"
     ]
    }
   ],
   "source": [
    "#Lets Apply This Algorithm To Insurance Dataset.\n",
    "from random import seed\n",
    "from random import randrange\n",
    "from csv import reader\n",
    "from math import sqrt\n",
    "\n",
    "\n",
    "#Load Csv File\n",
    "def load_csv(filename):\n",
    "    dataset = list()\n",
    "    with open(filename, 'r') as f:\n",
    "        csv_reader = reader(f)\n",
    "        for row in csv_reader:\n",
    "            if not row:\n",
    "                continue\n",
    "            dataset.append(row)\n",
    "    return dataset\n",
    "\n",
    "print(load_csv('Insurance.csv'))"
   ]
  },
  {
   "cell_type": "code",
   "execution_count": 39,
   "metadata": {},
   "outputs": [
    {
     "name": "stdout",
     "output_type": "stream",
     "text": [
      "RMSE: 33.275\n"
     ]
    }
   ],
   "source": [
    "#Function To Convert String To Float\n",
    "def str_column_to_float(dataset, column):\n",
    "    for row in dataset:\n",
    "        row[column] = float(row[column].strip())\n",
    "\n",
    "#Splitting The Dataset Into Training And Testing Sets\n",
    "def train_test_split(dataset, split):\n",
    "    train = list()\n",
    "    train_size = split * float(len(dataset))\n",
    "    dataset_copy = list(dataset)\n",
    "    while len(train) < train_size :\n",
    "        index = randrange(len(dataset_copy))\n",
    "        train.append(dataset_copy.pop(index))\n",
    "        \n",
    "    return train, dataset_copy\n",
    "\n",
    "\n",
    "def evaluate_algorithm(dataset, algorithm, split):\n",
    "    train, test = train_test_split(dataset, split)\n",
    "    test_set = list()\n",
    "    for row in test:\n",
    "        row_copy = list(row)\n",
    "        row_copy[-1] = None\n",
    "        test_set.append(row_copy)\n",
    "    predicted = algorithm(train, test_set)    \n",
    "    actual = [row[-1] for row in test]\n",
    "    rmse = rmse_metric(actual, predicted)\n",
    "    return rmse\n",
    "\n",
    "\n",
    "seed(1)\n",
    "# load and prepare data\n",
    "filename = 'Insurance.csv'\n",
    "dataset = load_csv(filename)\n",
    "for i in range(len(dataset[0])):\n",
    "\tstr_column_to_float(dataset, i)\n",
    "# evaluate algorithm\n",
    "split = 0.6\n",
    "rmse = evaluate_algorithm(dataset, simple_linear_regression, split)\n",
    "print('RMSE: %.3f' % (rmse))"
   ]
  }
 ],
 "metadata": {
  "kernelspec": {
   "display_name": "Python 3",
   "language": "python",
   "name": "python3"
  },
  "language_info": {
   "codemirror_mode": {
    "name": "ipython",
    "version": 3
   },
   "file_extension": ".py",
   "mimetype": "text/x-python",
   "name": "python",
   "nbconvert_exporter": "python",
   "pygments_lexer": "ipython3",
   "version": "3.6.0"
  }
 },
 "nbformat": 4,
 "nbformat_minor": 2
}
